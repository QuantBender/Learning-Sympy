{
 "cells": [
  {
   "cell_type": "markdown",
   "metadata": {},
   "source": [
    "# Exponential Decay: Drug Dosage\n",
    "\n",
    "When a drug is administered intravenously, it reaches its peak concentration in the patient's bloodstream very quickly. After this, the concentration **decays exponentially** - decreasing quickly at first, then more and more slowly. \n",
    "\n",
    "## Finding an Exponential Model\n",
    "\n",
    "Immediately after injection, the concentration of a certain drug in a patient's bloodstream is $1.5\\text{ mg}/\\text{ml}$ (milligrams per milliliter).\n",
    "\n",
    "After $4$ hours, a doctor measures the concentration of the drug in the patient's bloodstream again, and finds that it has decreased to $0.25\\text{ mg}/\\text{ml}$.\n",
    "\n",
    "Find an exponential model for the concentration of the drug in the patient's blood after $t$ hours. \n",
    "\n",
    "---\n",
    "\n",
    "Recall that an exponentially decaying quantity can be modeled by $$C(t) = C_0 e^{-kt},$$ where $C_0 = C(0)$ is the initial quantity, and $k$ is a positive constant (the rate of decay).\n",
    "\n",
    "In this problem, we know that $C_0 = 1.5$, so we have $$C(t) = 1.5e^{-kt}.$$ We need to solve for the rate of decay $k$ for this particular drug.\n",
    "\n",
    "We begin by importing SymPy, so we can use symbolic expressions. We let our variable $t$ and our unknown $k$ both be symbols in SymPy, t and k. Then, we can define concentration $C$ as an expression involving k and t."
   ]
  },
  {
   "cell_type": "code",
   "execution_count": 1,
   "metadata": {},
   "outputs": [],
   "source": [
    "from sympy import *"
   ]
  },
  {
   "cell_type": "code",
   "execution_count": 2,
   "metadata": {},
   "outputs": [],
   "source": [
    "t, k = symbols('t, k')\n",
    "C = 1.5*exp(-k*t)"
   ]
  },
  {
   "cell_type": "markdown",
   "metadata": {},
   "source": [
    "To solve for $k$, we can use the fact that the concentration after $4$ hours, $C(4)$, is equal to $0.25\\text{ mg}/\\text{ml}$. \n",
    "\n",
    "We express this equation in SymPy by using the function **Eq()**."
   ]
  },
  {
   "cell_type": "code",
   "execution_count": 3,
   "metadata": {},
   "outputs": [
    {
     "data": {
      "text/latex": [
       "$\\displaystyle 1.5 e^{- 2 k} = 0.25$"
      ],
      "text/plain": [
       "Eq(1.5*exp(-2*k), 0.25)"
      ]
     },
     "execution_count": 3,
     "metadata": {},
     "output_type": "execute_result"
    }
   ],
   "source": [
    "# Store C(4) as C_4\n",
    "C_4 = C.subs(t,2)\n",
    "# Equate to the given value of C(4)\n",
    "Eq(C_4, 0.25)"
   ]
  },
  {
   "cell_type": "markdown",
   "metadata": {},
   "source": [
    "Then, to solve the equation for k, we use the function **solveset()**.\n",
    "\n",
    "We add the argument **domain=S.Reals** to ensure that we get only real-number solutions."
   ]
  },
  {
   "cell_type": "code",
   "execution_count": 4,
   "metadata": {},
   "outputs": [
    {
     "data": {
      "text/latex": [
       "$\\displaystyle \\left\\{0.895879734614027\\right\\}$"
      ],
      "text/plain": [
       "FiniteSet(0.895879734614027)"
      ]
     },
     "execution_count": 4,
     "metadata": {},
     "output_type": "execute_result"
    }
   ],
   "source": [
    "solveset(Eq(C_4, 0.25), k, domain=S.Reals)"
   ]
  },
  {
   "cell_type": "markdown",
   "metadata": {},
   "source": [
    "Thus, the rate of decay for this drug is $k = 0.895879734614027$."
   ]
  },
  {
   "cell_type": "code",
   "execution_count": 5,
   "metadata": {},
   "outputs": [],
   "source": [
    "# Store the value of k\n",
    "k = 0.895879734614027 "
   ]
  },
  {
   "cell_type": "markdown",
   "metadata": {},
   "source": [
    "## Calculating Dosage\n",
    "\n",
    "Most drugs become ineffective if they are below a minimum concentration $m$, and become dangerous if they are above a maximum concentration $M$. That is, the doctor must make sure that $$m \\leq C(t) \\leq M$$ at all times $t$.\n",
    "\n",
    "For the same drug discussed above, the minimum effective concentration is $m = 0.6\\text{ mg}/\\text{ml}$, and the maximum safe concentration is $M = 5\\text{ mg}/\\text{ml}$.\n",
    "\n",
    "Suppose an initial dose of the drug results in a concentration of $4\\text{ mg}/\\text{ml}$.\n",
    "\n",
    "1. How long can the doctor wait until administering another dose so that the drug remains effective? \n",
    "2. A second dose is given after 1 hour. What is the maxium concentration that can be added by this dose?\n",
    "\n",
    "---\n",
    "\n",
    "We have the same drug, so we use the same rate of decay, $k = 0.895879734614027$. However, we have a new initial concentration. Thus we can write a new function for the concentration after $t$ hours in this case: $$C_1(t) = 4e^{-kt}.$$"
   ]
  },
  {
   "cell_type": "code",
   "execution_count": 6,
   "metadata": {},
   "outputs": [
    {
     "data": {
      "text/latex": [
       "$\\displaystyle 4 e^{- 0.895879734614027 t}$"
      ],
      "text/plain": [
       "4*exp(-0.895879734614027*t)"
      ]
     },
     "execution_count": 6,
     "metadata": {},
     "output_type": "execute_result"
    }
   ],
   "source": [
    "# Store the minimum and maximum concentration\n",
    "m = 0.6\n",
    "M = 5\n",
    "# Define the concentration function\n",
    "C1 = 4*exp(-k*t)\n",
    "C1"
   ]
  },
  {
   "cell_type": "markdown",
   "metadata": {},
   "source": [
    "### Time for Minimum Effective Concentration\n",
    "\n",
    "For the first question, we want to find how long it takes for the concentration to reach the minimum effective level, $0.6\\text{ mg}/\\text{ml}$. That is, we want to solve for $t$ such that $C_1(t) = m = 0.6$.\n",
    "\n",
    "We use the **solveset()** function again."
   ]
  },
  {
   "cell_type": "code",
   "execution_count": 7,
   "metadata": {},
   "outputs": [
    {
     "data": {
      "text/latex": [
       "$\\displaystyle \\left\\{2.1176056468151\\right\\}$"
      ],
      "text/plain": [
       "FiniteSet(2.1176056468151)"
      ]
     },
     "execution_count": 7,
     "metadata": {},
     "output_type": "execute_result"
    }
   ],
   "source": [
    "solveset(Eq(C1, m), t, domain=S.Reals)"
   ]
  },
  {
   "cell_type": "markdown",
   "metadata": {},
   "source": [
    "The doctor can wait up to approximately $2.12$ hours before administering another dose to the patient. If they wait longer, then the drug will become ineffective."
   ]
  },
  {
   "cell_type": "markdown",
   "metadata": {},
   "source": [
    "### Dose for Maximum Safe Concentration\n",
    "\n",
    "For the second question, we look at the concentration of the drug in the patient's bloodstream after 1 hour, $C_1(1)$."
   ]
  },
  {
   "cell_type": "code",
   "execution_count": 8,
   "metadata": {},
   "outputs": [
    {
     "data": {
      "text/latex": [
       "$\\displaystyle 1.63299316185545$"
      ],
      "text/plain": [
       "1.63299316185545"
      ]
     },
     "execution_count": 8,
     "metadata": {},
     "output_type": "execute_result"
    }
   ],
   "source": [
    "# Store C1(1) as C1_1\n",
    "C1_1 = C1.subs(t, 1)\n",
    "C1_1"
   ]
  },
  {
   "cell_type": "markdown",
   "metadata": {},
   "source": [
    "By how many $\\text{mg}/\\text{ml}$ can the concentration be increased before the drug becomes dangerous for the patient?"
   ]
  },
  {
   "cell_type": "code",
   "execution_count": 9,
   "metadata": {},
   "outputs": [
    {
     "data": {
      "text/latex": [
       "$\\displaystyle 3.36700683814455$"
      ],
      "text/plain": [
       "3.36700683814455"
      ]
     },
     "execution_count": 9,
     "metadata": {},
     "output_type": "execute_result"
    }
   ],
   "source": [
    "# Difference between maximum concentration and concentration after 1 hour\n",
    "M - C1_1"
   ]
  },
  {
   "cell_type": "markdown",
   "metadata": {},
   "source": [
    "Thus, the doctor must measure the dose so that it will not result in a concentration greater than $3.367\\text{ mg}/\\text{ml}$."
   ]
  },
  {
   "cell_type": "markdown",
   "metadata": {},
   "source": [
    "# Reference\n",
    "\n",
    "Annamalai, C. (2010). Applications of exponential decay and geometric series in effective medicine dosage. *Advances in Bioscience and Biotechnology, 1*, 51-54. https://doi.org/10.4236/abb.2010.11008"
   ]
  }
 ],
 "metadata": {
  "kernelspec": {
   "display_name": "Python 3",
   "language": "python",
   "name": "python3"
  },
  "language_info": {
   "codemirror_mode": {
    "name": "ipython",
    "version": 3
   },
   "file_extension": ".py",
   "mimetype": "text/x-python",
   "name": "python",
   "nbconvert_exporter": "python",
   "pygments_lexer": "ipython3",
   "version": "3.7.6"
  }
 },
 "nbformat": 4,
 "nbformat_minor": 4
}

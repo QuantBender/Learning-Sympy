{
 "cells": [
  {
   "cell_type": "markdown",
   "metadata": {},
   "source": [
    "# Optimization: Profit, Revenue, and Cost\n",
    "\n",
    "Business and economics provide good examples of optimization problems - a company typically looks to maximize profits and minimize costs. In this example, we will use calculus with SymPy to maximize profit.\n",
    "\n",
    "## Definitions\n",
    "\n",
    "The **demand equation** for an item relates the price $p$ charged per item and the quantity $q$ of items that can be sold at that price (that is, $q$ can be thought of the number of people who are willing to buy the item at a price of $p$).\n",
    "\n",
    "The **revenue** that a company generates from selling $q$ items at a price of $p$ is then $R = pq$.\n",
    "\n",
    "If $C$ represents the **cost** of producing $q$ items, then the **profit** the company makes from selling $q$ items is the revenue minus the cost: $$P(q) = R(q) - C(q)$$\n",
    "\n",
    "Before working on the problem, import in order to use SymPy."
   ]
  },
  {
   "cell_type": "code",
   "execution_count": 1,
   "metadata": {},
   "outputs": [],
   "source": [
    "from sympy import *"
   ]
  },
  {
   "cell_type": "markdown",
   "metadata": {},
   "source": [
    "## Example"
   ]
  },
  {
   "cell_type": "markdown",
   "metadata": {},
   "source": [
    "### Finding a Cost Function\n",
    "Production of an item has fixed costs of $\\$10,000$ and variable costs of $\\$2$ per item. Express the cost, $C$, of producing $q$ items.\n",
    "\n",
    "---\n",
    "\n",
    "The variable costs for $q$ items are $2q$ dollars. To find the total cost of producing $q$ items, we add the fixed cost of $10000$ to the variable cost: $$C(q) = 2q + 10000$$\n",
    "\n",
    "We can store the cost function $C(q)$ as C in Python, after defining q as a symbolic variable."
   ]
  },
  {
   "cell_type": "code",
   "execution_count": 2,
   "metadata": {},
   "outputs": [],
   "source": [
    "q = symbols('q')\n",
    "C = 2*q + 10000"
   ]
  },
  {
   "cell_type": "markdown",
   "metadata": {},
   "source": [
    "### Finding a Demand Equation\n",
    "\n",
    "The relationship between the price, $p$, and quantity, $q$, demanded is linear. Market research shows that $10,100$ items are sold when the price is $\\$5$ and $12,872$ items are sold when the price is $\\$4.50$. Express the price $p$ as a function of quantity $q$.\n",
    "\n",
    "---\n",
    "\n",
    "Based on the given information, $p(q)$ will be a linear function.\n",
    "\n",
    "We are told two coordinate points on the graph of the linear function $q(p)$.\n",
    "\n",
    "\"$10,100$ items are sold when the price is $\\$5$,\" means the point $(q, p) = (10100, 5)$ lies on the graph.\n",
    "\n",
    "\"$12,872$ items are sold when the price is $\\$4.50$,\" means the point $(q, p) = (12872, 4.50)$ lies on the graph as well.\n",
    "\n",
    "We can use SymPy to find the linear function that passes through these two points, based on point-slope form:"
   ]
  },
  {
   "cell_type": "code",
   "execution_count": 3,
   "metadata": {},
   "outputs": [
    {
     "name": "stdout",
     "output_type": "stream",
     "text": [
      "6.82178932178932 - 0.00018037518037518*q\n"
     ]
    }
   ],
   "source": [
    "slope = (4.50-5)/(12872 - 10100)\n",
    "p = slope*(q - 10100) + 5\n",
    "print(p)"
   ]
  },
  {
   "cell_type": "markdown",
   "metadata": {},
   "source": [
    "Now, we can also determine the revenue: the number of items sold times the price per item. We store the revenue $R(q)$ under the name R in Python."
   ]
  },
  {
   "cell_type": "code",
   "execution_count": 4,
   "metadata": {},
   "outputs": [
    {
     "name": "stdout",
     "output_type": "stream",
     "text": [
      "q*(6.82178932178932 - 0.00018037518037518*q)\n"
     ]
    }
   ],
   "source": [
    "R = p*q\n",
    "print(R)"
   ]
  },
  {
   "cell_type": "markdown",
   "metadata": {},
   "source": [
    "### Maximizing Profit\n",
    "\n",
    "Express the profit earned as a function of $q$. How many items should the company produce to maximize profit? What is the profit at that production level?\n",
    "\n",
    "---\n",
    "\n",
    "The profit is the revenue minus the cost. We can use the previously defined names R for revenue and C for cost to define profit in Python."
   ]
  },
  {
   "cell_type": "code",
   "execution_count": 5,
   "metadata": {},
   "outputs": [
    {
     "name": "stdout",
     "output_type": "stream",
     "text": [
      "q*(6.82178932178932 - 0.00018037518037518*q) - 2*q - 10000\n"
     ]
    }
   ],
   "source": [
    "P = R - C\n",
    "print(P)"
   ]
  },
  {
   "cell_type": "markdown",
   "metadata": {},
   "source": [
    "To find the maximum profit, we first take the derivative of $P$ with SymPy's diff() function.\n",
    "\n",
    "We can then find critical points by solving $P'(q) = 0$ with the solveset function. The list() function converts the results into a list so that we can take out values."
   ]
  },
  {
   "cell_type": "code",
   "execution_count": 6,
   "metadata": {},
   "outputs": [
    {
     "data": {
      "text/plain": [
       "[13366.0000000000]"
      ]
     },
     "execution_count": 6,
     "metadata": {},
     "output_type": "execute_result"
    }
   ],
   "source": [
    "dP = diff(P, q)\n",
    "crit_points = list(solveset(dP, q))\n",
    "crit_points"
   ]
  },
  {
   "cell_type": "markdown",
   "metadata": {},
   "source": [
    "We see that the maximum profit occurs when $13366$ items are sold. \n",
    "\n",
    "To find the profit at that production level, we subsitute this value for $q$ in $P(q)$ using the subs() function in SymPy."
   ]
  },
  {
   "cell_type": "code",
   "execution_count": 7,
   "metadata": {},
   "outputs": [
    {
     "data": {
      "text/latex": [
       "$\\displaystyle 22224.018037518$"
      ],
      "text/plain": [
       "22224.0180375180"
      ]
     },
     "execution_count": 7,
     "metadata": {},
     "output_type": "execute_result"
    }
   ],
   "source": [
    "P.subs(q, crit_points[0])"
   ]
  },
  {
   "cell_type": "markdown",
   "metadata": {},
   "source": [
    "# Source\n",
    "\n",
    "This example was adapted from an exercise in the following textbook.\n",
    "\n",
    "Hughes-Hallett, D., Lock, P.F., Flath, D.E., Gleason, A.M., Lovelock, D., Quinney, D., Connally, E., Lozano, G.I., Rhea, K., Kalacioglu, S., McCallum, W.G., Spiegler, A.H., Lahme, B., Osgood, B.G., Tecosky-Feldman, J., Lomen, D.O., Patterson, C.L., Tucker, T.W., & Wootton, A.D. (2014). *Applied Calculus* (5th ed.). Wiley."
   ]
  }
 ],
 "metadata": {
  "kernelspec": {
   "display_name": "Python 3",
   "language": "python",
   "name": "python3"
  },
  "language_info": {
   "codemirror_mode": {
    "name": "ipython",
    "version": 3
   },
   "file_extension": ".py",
   "mimetype": "text/x-python",
   "name": "python",
   "nbconvert_exporter": "python",
   "pygments_lexer": "ipython3",
   "version": "3.7.6"
  }
 },
 "nbformat": 4,
 "nbformat_minor": 4
}
